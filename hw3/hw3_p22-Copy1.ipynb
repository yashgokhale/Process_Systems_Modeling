{
 "cells": [
  {
   "cell_type": "code",
   "execution_count": 589,
   "metadata": {},
   "outputs": [],
   "source": [
    "import numpy as np\n",
    "from scipy.optimize import minimize\n",
    "import matplotlib.pyplot as plt"
   ]
  },
  {
   "cell_type": "markdown",
   "metadata": {},
   "source": [
    "# Coordinate descent"
   ]
  },
  {
   "cell_type": "code",
   "execution_count": 590,
   "metadata": {},
   "outputs": [
    {
     "name": "stdout",
     "output_type": "stream",
     "text": [
      "9.867344782301663\n",
      "1.6199595781585714\n",
      "0.40570572514442516\n",
      "0.15696205401229987\n",
      "0.07319842620266738\n",
      "0.040543598525278605\n"
     ]
    }
   ],
   "source": [
    "x1=0\n",
    "x2=3\n",
    "n_iter=6\n",
    "x1a=np.array([x1])\n",
    "x2a=np.array([x2])\n",
    "def obj(x1,x2):\n",
    "    return (x1-2)**4+(x1-2*x2)**2\n",
    "def obj2(x2,x1):\n",
    "    return (x1-2)**4+(x1-2*x2)**2\n",
    "for i in range(n_iter):\n",
    "    if i%2==0:\n",
    "        ff=minimize(obj,0,(x2,))\n",
    "        x1=ff.x[0]\n",
    "#        x1a=np.append(x1a,x1)\n",
    "#        x2a=np.append(x2a,x2)\n",
    "        print(obj(x1,x2))\n",
    "    else:\n",
    "        gg=minimize(obj2,x2,(x1,))\n",
    "        x2=gg.x[0]\n",
    "        x1a=np.append(x1a,x1)\n",
    "        x2a=np.append(x2a,x2)\n",
    "        print(obj(x1,x2))"
   ]
  },
  {
   "cell_type": "code",
   "execution_count": 591,
   "metadata": {},
   "outputs": [],
   "source": [
    "x1c=x1a\n",
    "x2c=x2a"
   ]
  },
  {
   "cell_type": "code",
   "execution_count": 592,
   "metadata": {},
   "outputs": [
    {
     "data": {
      "image/png": "[encoded data removed]",
      "text/plain": [
       "<Figure size 432x288 with 1 Axes>"
      ]
     },
     "metadata": {
      "needs_background": "light"
     },
     "output_type": "display_data"
    }
   ],
   "source": [
    "plt.plot(x1a,x2a,'-o')\n",
    "for i in range(len(x1a)):\n",
    "    plt.text(x1a[i],x2a[i],i)\n",
    "plt.xlabel('x1')\n",
    "plt.ylabel('x2')\n",
    "plt.title('Coordinate descent')\n",
    "plt.show()"
   ]
  },
  {
   "cell_type": "markdown",
   "metadata": {},
   "source": [
    "# Steepest Descent"
   ]
  },
  {
   "cell_type": "code",
   "execution_count": 593,
   "metadata": {},
   "outputs": [],
   "source": [
    "x0=np.array([0,3])\n",
    "\n",
    "def objective(x):\n",
    "    x1,x2=x\n",
    "    return (x1-2)**4+(x1-2*x2)**2\n",
    "\n",
    "def dx1(x):\n",
    "    x1,x2=x\n",
    "    return 4*(x1-2)**3+2*(x1-2*x2)\n",
    "\n",
    "def dx2(x):\n",
    "    x1,x2=x\n",
    "    return 2*(-2)*(x1-2*x2)"
   ]
  },
  {
   "cell_type": "code",
   "execution_count": 594,
   "metadata": {},
   "outputs": [],
   "source": [
    "#Steepest descent\n",
    "d1=dx1(x0)\n",
    "d2=dx2(x0)\n",
    "def f(h,x0):\n",
    "    x1,x2=x0\n",
    "    x11=x1-h*dx1(x0)\n",
    "    x21=x2-h*dx2(x0)\n",
    "    obj=objective(np.array([x11,x21]))\n",
    "    return obj"
   ]
  },
  {
   "cell_type": "code",
   "execution_count": 595,
   "metadata": {},
   "outputs": [
    {
     "data": {
      "text/plain": [
       "array([0.23077616])"
      ]
     },
     "execution_count": 595,
     "metadata": {},
     "output_type": "execute_result"
    }
   ],
   "source": [
    "res=minimize(f,0,tol=1e-6,args=(np.array([2.70753302,1.52316381])))\n",
    "h_opt=res.x\n",
    "h_opt"
   ]
  },
  {
   "cell_type": "markdown",
   "metadata": {},
   "source": [
    "# Steepest Descent"
   ]
  },
  {
   "cell_type": "code",
   "execution_count": 596,
   "metadata": {},
   "outputs": [],
   "source": [
    "def steep(n_iter,x0):\n",
    "    x1i,x2i=x0\n",
    "    xo=np.array([x1i,x2i])\n",
    "    xo=np.reshape(xo,(2,1))\n",
    "    t=0.01\n",
    "    for i in range(n_iter):\n",
    "        a=np.array([x1i,x2i])\n",
    "        print(a)\n",
    "        der1=dx1(a) #derivative1\n",
    "        der2=dx2(a) #derivate2\n",
    "        print(der1,der2)\n",
    "        res=minimize(f,0.01,args=(a)) #f is the objective\n",
    "        print(res)\n",
    "        x1i=x1i-res.x*der1\n",
    "        x2i=x2i-res.x*der2\n",
    "        print(x1i,x2i)\n",
    "        temp=np.array([x1i,x2i])\n",
    "        xo=np.column_stack([xo,temp])\n",
    "        t=res.x\n",
    "    return xo"
   ]
  },
  {
   "cell_type": "code",
   "execution_count": 597,
   "metadata": {},
   "outputs": [
    {
     "name": "stdout",
     "output_type": "stream",
     "text": [
      "[0 3]\n",
      "-44 24\n",
      "      fun: 0.3653851152616442\n",
      " hess_inv: array([[3.50248846e-05]])\n",
      "      jac: array([4.06056643e-07])\n",
      "  message: 'Optimization terminated successfully.'\n",
      "     nfev: 27\n",
      "      nit: 6\n",
      "     njev: 9\n",
      "   status: 0\n",
      "  success: True\n",
      "        x: array([0.06153484])\n",
      "[2.70753302] [1.52316381]\n",
      "[[2.70753302]\n",
      " [1.52316381]]\n",
      "[0.73918337] [1.35517836]\n",
      "      fun: 0.09660435541475058\n",
      " hess_inv: array([[0.10368521]])\n",
      "      jac: array([-5.96605241e-06])\n",
      "  message: 'Optimization terminated successfully.'\n",
      "     nfev: 15\n",
      "      nit: 3\n",
      "     njev: 5\n",
      "   status: 0\n",
      "  success: True\n",
      "        x: array([0.23077555])\n",
      "[2.53694757] [1.21042177]\n",
      "[[2.53694757]\n",
      " [1.21042177]]\n",
      "[0.85144326] [-0.4644161]\n",
      "      fun: 0.04496029688065283\n",
      " hess_inv: array([[0.12476638]])\n",
      "      jac: array([-6.22542575e-06])\n",
      "  message: 'Optimization terminated successfully.'\n",
      "     nfev: 15\n",
      "      nit: 3\n",
      "     njev: 5\n",
      "   status: 0\n",
      "  success: True\n",
      "        x: array([0.11159093])\n",
      "[2.44193423] [1.2622464]\n"
     ]
    }
   ],
   "source": [
    "xsol=steep(3,x0)\n",
    "sol=objective(xsol)"
   ]
  },
  {
   "cell_type": "code",
   "execution_count": 598,
   "metadata": {},
   "outputs": [
    {
     "data": {
      "image/png": "[encoded data removed]",
      "text/plain": [
       "<Figure size 432x288 with 1 Axes>"
      ]
     },
     "metadata": {
      "needs_background": "light"
     },
     "output_type": "display_data"
    }
   ],
   "source": [
    "x1s=xsol[0,:]\n",
    "x2s=xsol[1,:]\n",
    "for i in range(len(x1s)):\n",
    "    plt.text(x1s[i],x2s[i],i)\n",
    "plt.plot(x1s,x2s,'-o')\n",
    "plt.xlabel('x1')\n",
    "plt.ylabel('x2')\n",
    "plt.title(f'Steepest descent')\n",
    "plt.show()"
   ]
  },
  {
   "cell_type": "code",
   "execution_count": 599,
   "metadata": {},
   "outputs": [
    {
     "data": {
      "image/png": "[encoded data removed]",
      "text/plain": [
       "<Figure size 432x288 with 1 Axes>"
      ]
     },
     "metadata": {
      "needs_background": "light"
     },
     "output_type": "display_data"
    },
    {
     "name": "stdout",
     "output_type": "stream",
     "text": [
      "0.04496029688065283\n"
     ]
    }
   ],
   "source": [
    "plt.plot(x1s,sol,'-o')\n",
    "plt.xlabel('x1')\n",
    "plt.ylabel('Objective')\n",
    "plt.title(f'Steepest descent for h={h_opt[0]:1.3f}')\n",
    "plt.show()\n",
    "print(sol[-1])"
   ]
  },
  {
   "cell_type": "markdown",
   "metadata": {},
   "source": [
    "# Newton's Method"
   ]
  },
  {
   "cell_type": "code",
   "execution_count": 600,
   "metadata": {},
   "outputs": [],
   "source": [
    "x10=0\n",
    "x20=3"
   ]
  },
  {
   "cell_type": "code",
   "execution_count": 601,
   "metadata": {},
   "outputs": [],
   "source": [
    "def objective(x1,x2):\n",
    "    return (x1-2)**4+(x1-2*x2)**2\n",
    "\n",
    "def dx1(x1,x2):\n",
    "    return 4*(x1-2)**3+2*(x1-2*x2)\n",
    "\n",
    "def dx2(x1,x2):\n",
    "    return 2*(-2)*(x1-2*x2)"
   ]
  },
  {
   "cell_type": "code",
   "execution_count": 602,
   "metadata": {},
   "outputs": [],
   "source": [
    "def dx11(x1,x2):\n",
    "    return 12*(x1-2)**2+2\n",
    "dx12=-4\n",
    "dx22=8"
   ]
  },
  {
   "cell_type": "code",
   "execution_count": 603,
   "metadata": {},
   "outputs": [],
   "source": [
    "def der(x1,x2):\n",
    "    u=np.array([dx1(x1,x2),dx2(x1,x2)])\n",
    "    u=np.reshape(u,(2,1))\n",
    "    return u.T\n",
    "\n",
    "def hess(x1,x2):\n",
    "    p=np.array([[(12*(x1-2)**2+2),-4],[-4,8]])\n",
    "    return np.linalg.inv(p)"
   ]
  },
  {
   "cell_type": "code",
   "execution_count": 604,
   "metadata": {},
   "outputs": [
    {
     "data": {
      "text/plain": [
       "array([[ 0.66666667],\n",
       "       [-2.66666667]])"
      ]
     },
     "execution_count": 604,
     "metadata": {},
     "output_type": "execute_result"
    }
   ],
   "source": [
    "l=1\n",
    "-1*l*hess(x10,x20)@der(x10,x20).T"
   ]
  },
  {
   "cell_type": "markdown",
   "metadata": {},
   "source": [
    "# Newton's Method"
   ]
  },
  {
   "cell_type": "code",
   "execution_count": 605,
   "metadata": {},
   "outputs": [],
   "source": [
    "x10=0\n",
    "x20=3\n",
    "x1a=np.array([x10])\n",
    "x2a=np.array([x20])\n",
    "o=np.array([objective(x10,x20)])\n",
    "for i in range(3):\n",
    "    dx=-1*l*(hess(x10,x20))@der(x10,x20).T\n",
    "    x10=x10+dx[0][0]\n",
    "    x20=x20+dx[1][0]\n",
    "    x1a=np.append(x1a,x10)\n",
    "    x2a=np.append(x2a,x20)\n",
    "    o=np.append(o,objective(x10,x20))"
   ]
  },
  {
   "cell_type": "code",
   "execution_count": 606,
   "metadata": {},
   "outputs": [],
   "source": [
    "x1n=x1a\n",
    "x2n=x2a"
   ]
  },
  {
   "cell_type": "code",
   "execution_count": 607,
   "metadata": {},
   "outputs": [
    {
     "data": {
      "image/png": "[encoded data removed]",
      "text/plain": [
       "<Figure size 432x288 with 1 Axes>"
      ]
     },
     "metadata": {
      "needs_background": "light"
     },
     "output_type": "display_data"
    }
   ],
   "source": [
    "for i in range(len(x1a)):\n",
    "    plt.text(x1a[i],x2a[i],i)\n",
    "plt.plot(x1a,x2a,'-o')\n",
    "plt.xlabel('x1')\n",
    "plt.ylabel('x2')\n",
    "plt.title(f'Newtons Method')\n",
    "plt.show()"
   ]
  },
  {
   "cell_type": "code",
   "execution_count": 608,
   "metadata": {},
   "outputs": [
    {
     "data": {
      "image/png": "[encoded data removed]",
      "text/plain": [
       "<Figure size 432x288 with 1 Axes>"
      ]
     },
     "metadata": {
      "needs_background": "light"
     },
     "output_type": "display_data"
    }
   ],
   "source": [
    "plt.plot(x1c,x2c,'-o',label='Cycling Coordinate')\n",
    "plt.plot(x1s,x2s,'-o',label='Steepest Descent')\n",
    "plt.plot(x1n,x2n,'-o',label='Newton Method')\n",
    "plt.legend()\n",
    "plt.xlabel('x1')\n",
    "plt.ylabel('x2')\n",
    "plt.show()"
   ]
  },
  {
   "cell_type": "code",
   "execution_count": 609,
   "metadata": {},
   "outputs": [
    {
     "data": {
      "image/png": "[encoded data removed]",
      "text/plain": [
       "<Figure size 432x288 with 1 Axes>"
      ]
     },
     "metadata": {
      "needs_background": "light"
     },
     "output_type": "display_data"
    }
   ],
   "source": [
    "it=np.array([3,3,3])\n",
    "o=np.array([objective(x1c,x2c)[-1],objective(x1s,x2s)[-1],objective(x1n,x2n)[-1]])\n",
    "labels=['Coordinate','Steepest Gradient','Newtons']\n",
    "for i in range(len(o)):\n",
    "    plt.plot(it[i],o[i],'o',label=labels[i])\n",
    "plt.legend()    \n",
    "plt.xlabel('iterations')\n",
    "plt.ylabel('Objective')\n",
    "plt.show()"
   ]
  },
  {
   "cell_type": "code",
   "execution_count": 610,
   "metadata": {},
   "outputs": [
    {
     "name": "stdout",
     "output_type": "stream",
     "text": [
      "[0.0405436  0.0449603  0.12331755]\n"
     ]
    }
   ],
   "source": [
    "print(o)"
   ]
  },
  {
   "cell_type": "code",
   "execution_count": 613,
   "metadata": {},
   "outputs": [
    {
     "data": {
      "text/plain": [
       "(array([0.        , 0.66666667, 1.11111111, 1.40740741]),\n",
       " array([3.        , 0.33333333, 0.55555556, 0.7037037 ]))"
      ]
     },
     "execution_count": 613,
     "metadata": {},
     "output_type": "execute_result"
    }
   ],
   "source": [
    "x1n,x2n"
   ]
  },
  {
   "cell_type": "code",
   "execution_count": null,
   "metadata": {},
   "outputs": [],
   "source": []
  }
 ],
 "metadata": {
  "kernelspec": {
   "display_name": "Python 3",
   "language": "python",
   "name": "python3"
  },
  "language_info": {
   "codemirror_mode": {
    "name": "ipython",
    "version": 3
   },
   "file_extension": ".py",
   "mimetype": "text/x-python",
   "name": "python",
   "nbconvert_exporter": "python",
   "pygments_lexer": "ipython3",
   "version": "3.7.3"
  }
 },
 "nbformat": 4,
 "nbformat_minor": 2
}
